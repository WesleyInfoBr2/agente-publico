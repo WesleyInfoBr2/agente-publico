# Notebook 01: Configuração e Autenticação

## Visão Geral

Este notebook configura o ambiente de análise, gerencia autenticação para as APIs e implementa o sistema de controle de acesso para diferentes tipos de usuários (visitantes, usuários registrados e administradores).

## Configuração Inicial

Primeiro, vamos importar as bibliotecas necessárias e configurar o ambiente:

```python
import os
import sys
import json
import datetime
import pandas as pd
import numpy as np
import requests
from typing import Dict, List, Union, Optional, Any

# Adicionar diretório raiz ao path para importações
sys.path.append('..')

# Importar módulos do projeto
from src.api.transparencia import PortalTransparenciaAPI
from src.api.cndp import CNDPAPI
```

## Sistema de Autenticação e Autorização

Implementamos um sistema de gerenciamento de usuários com três níveis de acesso:

```python
class UserManager:
    """
    Gerencia autenticação e autorização de usuários.
    
    Implementa três níveis de acesso:
    - Visitante: Acesso limitado sem cadastro
    - Usuário: Acesso completo com histórico e exportação
    - Administrador: Acesso completo com configuração e monitoramento
    """
    
    def __init__(self, config_file: Optional[str] = None):
        """
        Inicializa o gerenciador de usuários.
        
        Args:
            config_file: Caminho para arquivo de configuração (opcional)
        """
        self.current_user = None
        self.user_type = "visitor"  # Default: visitor
        self.request_count = 0
        self.max_requests = {"visitor": 10, "user": float('inf'), "admin": float('inf')}
        self.history = {}
        
        # Carregar usuários de arquivo de configuração, se disponível
        self.users = {}
        if config_file and os.path.exists(config_file):
            try:
                with open(config_file, 'r') as f:
                    config = json.load(f)
                    self.users = config.get('users', {})
                    self.max_requests = config.get('max_requests', self.max_requests)
            except Exception as e:
                print(f"Erro ao carregar configuração: {str(e)}")
    
    def login(self, username: str, password: str) -> bool:
        """
        Realiza login de usuário.
        
        Args:
            username: Nome de usuário
            password: Senha
            
        Returns:
            True se login bem-sucedido, False caso contrário
        """
        # Verificar se usuário existe na configuração
        if username in self.users and self.users[username]['password'] == password:
            self.current_user = username
            self.user_type = self.users[username]['type']
            print(f"Login bem-sucedido como {self.user_type}.")
            return True
        
        # Implementação simplificada para demonstração
        elif username == "admin" and password == "admin123":
            self.current_user = username
            self.user_type = "admin"
            print("Login bem-sucedido como administrador.")
            return True
        elif username and password:
            self.current_user = username
            self.user_type = "user"
            print("Login bem-sucedido como usuário registrado.")
            return True
        
        print("Login falhou. Verifique suas credenciais.")
        return False
    
    def logout(self) -> None:
        """Realiza logout do usuário atual."""
        self.current_user = None
        self.user_type = "visitor"
        print("Logout realizado. Agora você é um visitante.")
    
    def can_make_request(self) -> bool:
        """
        Verifica se o usuário pode fazer mais requisições.
        
        Returns:
            True se o usuário pode fazer mais requisições, False caso contrário
        """
        if self.user_type == "visitor" and self.request_count >= self.max_requests["visitor"]:
            print(f"Limite de requisições atingido para visitantes ({self.max_requests['visitor']}). Faça login para continuar.")
            return False
        
        self.request_count += 1
        return True
    
    def record_activity(self, activity: str, details: Dict = None) -> None:
        """
        Registra atividade do usuário no histórico.
        
        Args:
            activity: Tipo de atividade
            details: Detalhes da atividade (opcional)
        """
        if not self.current_user:
            return
            
        if self.current_user not in self.history:
            self.history[self.current_user] = []
            
        self.history[self.current_user].append({
            'timestamp': datetime.datetime.now().isoformat(),
            'activity': activity,
            'details': details or {}
        })
    
    def get_history(self) -> List[Dict]:
        """
        Obtém histórico de atividades do usuário atual.
        
        Returns:
            Lista de atividades do usuário
        """
        if not self.current_user:
            return []
            
        return self.history.get(self.current_user, [])
    
    def is_admin(self) -> bool:
        """
        Verifica se o usuário atual é administrador.
        
        Returns:
            True se o usuário é administrador, False caso contrário
        """
        return self.user_type == "admin"
    
    def is_authenticated(self) -> bool:
        """
        Verifica se há um usuário autenticado.
        
        Returns:
            True se há um usuário autenticado, False caso contrário
        """
        return self.current_user is not None
    
    def get_user_type(self) -> str:
        """
        Obtém o tipo do usuário atual.
        
        Returns:
            Tipo do usuário: 'visitor', 'user' ou 'admin'
        """
        return self.user_type
```

## Inicialização do Gerenciador de Usuários

```python
# Inicializar gerenciador de usuários
user_manager = UserManager()

# Interface de login
def login_interface():
    """Interface simples para login de usuários."""
    print("=== Login ===")
    username = input("Usuário: ")
    password = input("Senha: ")
    
    success = user_manager.login(username, password)
    
    if success:
        print(f"Bem-vindo, {username}!")
    else:
        print("Login falhou. Continuando como visitante.")
    
    print(f"Tipo de usuário atual: {user_manager.get_user_type()}")

# Descomente para usar a interface de login
# login_interface()
```

## Configuração de APIs

### Portal da Transparência

```python
def configurar_api_transparencia(token: Optional[str] = None) -> PortalTransparenciaAPI:
    """
    Configura o conector para a API do Portal da Transparência.
    
    Args:
        token: Token de autenticação (opcional)
        
    Returns:
        Instância configurada do conector
    """
    # Verificar se o usuário pode fazer requisições
    if not user_manager.can_make_request():
        raise Exception("Limite de requisições atingido. Faça login para continuar.")
    
    # Obter token da variável de ambiente se não fornecido
    token = token or os.environ.get("TRANSPARENCIA_API_TOKEN")
    
    if not token:
        print("Aviso: Token não fornecido para API do Portal da Transparência.")
        print("Algumas funcionalidades podem não estar disponíveis.")
        
        # Se for administrador, solicitar token
        if user_manager.is_admin():
            token_input = input("Forneça o token da API (deixe em branco para continuar sem token): ")
            if token_input:
                token = token_input
    
    # Registrar atividade
    user_manager.record_activity("api_config", {"api": "transparencia"})
    
    # Criar e retornar instância do conector
    return PortalTransparenciaAPI(token)
```

### Catálogo Nacional de Dados Públicos (CNDP)

```python
def configurar_api_cndp(token: Optional[str] = None) -> CNDPAPI:
    """
    Configura o conector para a API do CNDP.
    
    Args:
        token: Token de autenticação (opcional)
        
    Returns:
        Instância configurada do conector
    """
    # Verificar se o usuário pode fazer requisições
    if not user_manager.can_make_request():
        raise Exception("Limite de requisições atingido. Faça login para continuar.")
    
    # Obter token da variável de ambiente se não fornecido
    token = token or os.environ.get("CNDP_API_TOKEN")
    
    # Registrar atividade
    user_manager.record_activity("api_config", {"api": "cndp"})
    
    # Criar e retornar instância do conector
    return CNDPAPI(token)
```

## Configuração da OpenAI

```python
def configurar_openai() -> str:
    """
    Configura a integração com a OpenAI.
    
    Returns:
        Chave da API da OpenAI
    """
    # Verificar se o usuário pode fazer requisições
    if not user_manager.can_make_request():
        raise Exception("Limite de requisições atingido. Faça login para continuar.")
    
    # Obter chave da variável de ambiente
    api_key = os.environ.get("OPENAI_API_KEY")
    
    if not api_key:
        print("Aviso: Chave da API da OpenAI não encontrada.")
        print("Funcionalidades de IA não estarão disponíveis.")
        
        # Se for administrador, solicitar chave
        if user_manager.is_admin():
            key_input = input("Forneça a chave da API da OpenAI (deixe em branco para continuar sem chave): ")
            if key_input:
                api_key = key_input
    
    # Registrar atividade
    user_manager.record_activity("api_config", {"api": "openai"})
    
    return api_key
```

## Função de Inicialização Completa

```python
def inicializar_ambiente():
    """
    Inicializa o ambiente completo com todas as configurações.
    
    Returns:
        Tupla com instâncias configuradas dos conectores
    """
    print("Inicializando ambiente de análise...")
    
    # Configurar APIs
    try:
        api_transparencia = configurar_api_transparencia()
        print("✓ API do Portal da Transparência configurada")
    except Exception as e:
        print(f"✗ Erro ao configurar API do Portal da Transparência: {str(e)}")
        api_transparencia = None
    
    try:
        api_cndp = configurar_api_cndp()
        print("✓ API do CNDP configurada")
    except Exception as e:
        print(f"✗ Erro ao configurar API do CNDP: {str(e)}")
        api_cndp = None
    
    # Configurar OpenAI
    try:
        openai_key = configurar_openai()
        if openai_key:
            print("✓ Integração com OpenAI configurada")
        else:
            print("✗ Integração com OpenAI não disponível")
    except Exception as e:
        print(f"✗ Erro ao configurar OpenAI: {str(e)}")
        openai_key = None
    
    print(f"\nAmbiente inicializado como: {user_manager.get_user_type().upper()}")
    print(f"Requisições disponíveis: {'Ilimitadas' if user_manager.get_user_type() != 'visitor' else user_manager.max_requests['visitor'] - user_manager.request_count}")
    
    return api_transparencia, api_cndp, openai_key
```

## Painel de Administração

```python
def painel_administracao():
    """Painel de administração para usuários com privilégios de administrador."""
    if not user_manager.is_admin():
        print("Acesso negado. Esta funcionalidade requer privilégios de administrador.")
        return
    
    print("\n=== Painel de Administração ===")
    print("1. Ver histórico de atividades")
    print("2. Configurar limites de requisições")
    print("3. Gerenciar usuários")
    print("4. Sair")
    
    opcao = input("\nEscolha uma opção: ")
    
    if opcao == "1":
        # Ver histórico de atividades
        print("\nHistórico de Atividades:")
        for usuario, atividades in user_manager.history.items():
            print(f"\nUsuário: {usuario}")
            for atividade in atividades:
                print(f"  {atividade['timestamp']} - {atividade['activity']}")
    
    elif opcao == "2":
        # Configurar limites de requisições
        print("\nLimites de Requisições Atuais:")
        for tipo, limite in user_manager.max_requests.items():
            print(f"  {tipo}: {limite if limite != float('inf') else 'Ilimitado'}")
        
        tipo = input("\nTipo de usuário para alterar (visitor/user/admin): ")
        if tipo in user_manager.max_requests:
            limite = input(f"Novo limite para {tipo} (use 'inf' para ilimitado): ")
            user_manager.max_requests[tipo] = float('inf') if limite == 'inf' else int(limite)
            print(f"Limite atualizado para {tipo}: {user_manager.max_requests[tipo]}")
    
    elif opcao == "3":
        # Gerenciar usuários
        print("\nUsuários Configurados:")
        for usuario, dados in user_manager.users.items():
            print(f"  {usuario} ({dados['type']})")
        
        print("\n1. Adicionar usuário")
        print("2. Remover usuário")
        print("3. Voltar")
        
        sub_opcao = input("\nEscolha uma opção: ")
        
        if sub_opcao == "1":
            # Adicionar usuário
            novo_usuario = input("Nome de usuário: ")
            senha = input("Senha: ")
            tipo = input("Tipo (visitor/user/admin): ")
            
            if tipo not in ['visitor', 'user', 'admin']:
                print("Tipo inválido. Usando 'user' como padrão.")
                tipo = 'user'
            
            user_manager.users[novo_usuario] = {
                'password': senha,
                'type': tipo
            }
            
            print(f"Usuário {novo_usuario} adicionado como {tipo}.")
        
        elif sub_opcao == "2":
            # Remover usuário
            usuario = input("Nome de usuário para remover: ")
            
            if usuario in user_manager.users:
                del user_manager.users[usuario]
                print(f"Usuário {usuario} removido.")
            else:
                print(f"Usuário {usuario} não encontrado.")
    
    print("\nOperação concluída.")

# Descomente para usar o painel de administração
# if user_manager.is_admin():
#     painel_administracao()
```

## Exemplo de Uso

```python
# Inicializar ambiente
api_transparencia, api_cndp, openai_key = inicializar_ambiente()

# Verificar se as APIs foram configuradas corretamente
if api_transparencia:
    print("\nExemplo de uso da API do Portal da Transparência:")
    endpoints = api_transparencia.listar_endpoints_disponiveis()
    print(f"Endpoints disponíveis: {', '.join(endpoints[:5])}...")

if api_cndp:
    print("\nExemplo de uso da API do CNDP:")
    temas = api_cndp.listar_temas()
    if not temas.empty:
        print(f"Temas disponíveis: {', '.join(temas['nome'].head(5).tolist())}...")
```

## Próximos Passos

Agora que você configurou o ambiente e o sistema de autenticação, pode prosseguir para:

1. Explorar os dados do Portal da Transparência no notebook **02_Portal_Transparência_Exploração.ipynb**
2. Explorar os dados do CNDP no notebook **03_CNDP_Exploração.ipynb**
3. Realizar análises estatísticas no notebook **04_Análise_Estatística_Básica.ipynb**

Lembre-se de que algumas funcionalidades podem estar limitadas dependendo do seu nível de acesso (visitante, usuário ou administrador).
