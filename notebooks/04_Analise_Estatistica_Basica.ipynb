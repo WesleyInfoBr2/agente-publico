# Notebook 04: Análise Estatística Básica

## Visão Geral

Este notebook demonstra como realizar análises estatísticas básicas com dados obtidos do Portal da Transparência e do Catálogo Nacional de Dados Públicos (CNDP). Aqui você encontrará exemplos de estatísticas descritivas, visualizações e análises exploratórias.

## Configuração Inicial

Primeiro, vamos importar as bibliotecas necessárias e configurar o ambiente:

```python
# Bibliotecas para análise de dados
import pandas as pd
import numpy as np

# Bibliotecas para visualização
import matplotlib.pyplot as plt
import seaborn as sns
import plotly.express as px
import plotly.graph_objects as go

# Bibliotecas para estatística
from scipy import stats
import statsmodels.api as sm
from statsmodels.formula.api import ols

# Configurações de visualização
plt.style.use('seaborn-v0_8-whitegrid')
sns.set_theme(style="whitegrid")
pd.set_option('display.max_columns', None)

# Importar conectores das APIs
import sys
sys.path.append('..')
from src.api.transparencia import PortalTransparenciaAPI
from src.api.cndp import CNDPAPI

# Configurar tokens de API (substitua pelos seus tokens ou use variáveis de ambiente)
# token_transparencia = "seu-token-aqui"  # ou use os.environ.get("TRANSPARENCIA_API_TOKEN")
# token_cndp = "seu-token-aqui"  # ou use os.environ.get("CNDP_API_TOKEN")

# Inicializar conectores
# api_transparencia = PortalTransparenciaAPI(token_transparencia)
# api_cndp = CNDPAPI(token_cndp)
```

## Carregamento de Dados de Exemplo

Para este notebook, vamos trabalhar com alguns conjuntos de dados de exemplo:

```python
# Função para carregar dados de exemplo do Portal da Transparência
def carregar_dados_transparencia_exemplo():
    """
    Carrega dados de exemplo do Portal da Transparência.
    
    Returns:
        DataFrame com dados de exemplo
    """
    # Simular dados de despesas por órgão
    dados = {
        'orgao': ['Ministério da Educação', 'Ministério da Saúde', 'Ministério da Economia', 
                 'Ministério da Defesa', 'Ministério da Infraestrutura', 'Outros'],
        'valor_empenhado': [120000000, 150000000, 90000000, 80000000, 60000000, 200000000],
        'valor_liquidado': [100000000, 130000000, 85000000, 75000000, 50000000, 180000000],
        'valor_pago': [95000000, 120000000, 80000000, 70000000, 45000000, 170000000],
        'ano': [2023, 2023, 2023, 2023, 2023, 2023]
    }
    
    return pd.DataFrame(dados)

# Função para carregar dados de exemplo do CNDP
def carregar_dados_cndp_exemplo():
    """
    Carrega dados de exemplo do CNDP.
    
    Returns:
        DataFrame com dados de exemplo
    """
    # Simular dados de educação
    np.random.seed(42)
    n = 100
    
    dados = {
        'municipio': [f'Município {i}' for i in range(1, n+1)],
        'regiao': np.random.choice(['Norte', 'Nordeste', 'Centro-Oeste', 'Sudeste', 'Sul'], n),
        'ideb': np.random.normal(5.5, 1.2, n),
        'taxa_aprovacao': np.random.uniform(0.7, 0.98, n),
        'taxa_abandono': np.random.uniform(0.01, 0.15, n),
        'investimento_por_aluno': np.random.normal(6000, 1500, n)
    }
    
    df = pd.DataFrame(dados)
    
    # Garantir valores dentro de limites razoáveis
    df['ideb'] = df['ideb'].clip(0, 10)
    df['taxa_aprovacao'] = df['taxa_aprovacao'].clip(0, 1)
    df['taxa_abandono'] = df['taxa_abandono'].clip(0, 1)
    df['investimento_por_aluno'] = df['investimento_por_aluno'].clip(3000, 10000)
    
    return df

# Carregar dados de exemplo
df_despesas = carregar_dados_transparencia_exemplo()
df_educacao = carregar_dados_cndp_exemplo()

# Exibir primeiras linhas
print("Dados de Despesas:")
display(df_despesas.head())

print("\nDados de Educação:")
display(df_educacao.head())
```

## Estatísticas Descritivas

### Análise Descritiva Básica

```python
# Estatísticas descritivas para dados de despesas
print("Estatísticas Descritivas - Despesas:")
display(df_despesas.describe())

# Estatísticas descritivas para dados de educação
print("\nEstatísticas Descritivas - Educação:")
display(df_educacao.describe())

# Análise mais detalhada para variáveis numéricas
def estatisticas_detalhadas(df, colunas_numericas=None):
    """
    Gera estatísticas descritivas detalhadas para um DataFrame.
    
    Args:
        df: DataFrame a ser analisado
        colunas_numericas: Lista de colunas numéricas para análise (opcional)
        
    Returns:
        DataFrame com estatísticas detalhadas
    """
    if colunas_numericas is None:
        colunas_numericas = df.select_dtypes(include=['number']).columns
    
    stats_dict = {}
    
    for col in colunas_numericas:
        stats_dict[col] = {
            'Tipo': str(df[col].dtype),
            'Contagem': df[col].count(),
            'Valores únicos': df[col].nunique(),
            'Valores nulos': df[col].isna().sum(),
            'Média': df[col].mean(),
            'Mediana': df[col].median(),
            'Desvio padrão': df[col].std(),
            'Mínimo': df[col].min(),
            '25%': df[col].quantile(0.25),
            '50%': df[col].quantile(0.5),
            '75%': df[col].quantile(0.75),
            'Máximo': df[col].max(),
            'Assimetria': df[col].skew(),
            'Curtose': df[col].kurt(),
            'Coef. de variação': df[col].std() / df[col].mean() if df[col].mean() != 0 else np.nan
        }
    
    return pd.DataFrame(stats_dict).T

# Aplicar função de estatísticas detalhadas
print("\nEstatísticas Detalhadas - Educação:")
display(estatisticas_detalhadas(df_educacao))
```

### Distribuição de Frequências

```python
# Distribuição de frequências para variáveis categóricas
def distribuicao_frequencias(df, coluna):
    """
    Gera distribuição de frequências para uma variável categórica.
    
    Args:
        df: DataFrame
        coluna: Nome da coluna categórica
        
    Returns:
        DataFrame com distribuição de frequências
    """
    freq = df[coluna].value_counts().reset_index()
    freq.columns = [coluna, 'Frequência']
    freq['Percentual'] = 100 * freq['Frequência'] / freq['Frequência'].sum()
    
    return freq

# Aplicar para região
print("Distribuição de Frequências por Região:")
display(distribuicao_frequencias(df_educacao, 'regiao'))

# Visualizar distribuição
plt.figure(figsize=(10, 6))
sns.countplot(data=df_educacao, x='regiao', palette='viridis')
plt.title('Distribuição de Municípios por Região')
plt.xlabel('Região')
plt.ylabel('Quantidade de Municípios')
plt.xticks(rotation=45)
plt.tight_layout()
plt.show()
```

## Visualizações Básicas

### Gráficos de Barras

```python
# Gráfico de barras para despesas por órgão
plt.figure(figsize=(12, 8))
df_despesas_melted = pd.melt(df_despesas, 
                            id_vars=['orgao'], 
                            value_vars=['valor_empenhado', 'valor_liquidado', 'valor_pago'],
                            var_name='Tipo de Valor', 
                            value_name='Valor')

sns.barplot(data=df_despesas_melted, x='orgao', y='Valor', hue='Tipo de Valor', palette='Blues_d')
plt.title('Despesas por Órgão - 2023')
plt.xlabel('Órgão')
plt.ylabel('Valor (R$)')
plt.xticks(rotation=45, ha='right')
plt.ticklabel_format(style='plain', axis='y')
plt.grid(axis='y', linestyle='--', alpha=0.7)
plt.legend(title='Tipo de Valor')
plt.tight_layout()
plt.show()

# Versão interativa com Plotly
fig = px.bar(df_despesas_melted, 
             x='orgao', 
             y='Valor', 
             color='Tipo de Valor',
             title='Despesas por Órgão - 2023',
             labels={'orgao': 'Órgão', 'Valor': 'Valor (R$)'},
             template='plotly_white',
             barmode='group')

fig.update_layout(xaxis_tickangle=-45)
fig.show()
```

### Histogramas e Distribuições

```python
# Histograma do IDEB
plt.figure(figsize=(10, 6))
sns.histplot(data=df_educacao, x='ideb', kde=True, bins=20, color='skyblue')
plt.axvline(df_educacao['ideb'].mean(), color='red', linestyle='--', label=f'Média: {df_educacao["ideb"].mean():.2f}')
plt.axvline(df_educacao['ideb'].median(), color='green', linestyle='--', label=f'Mediana: {df_educacao["ideb"].median():.2f}')
plt.title('Distribuição do IDEB')
plt.xlabel('IDEB')
plt.ylabel('Frequência')
plt.legend()
plt.grid(axis='y', linestyle='--', alpha=0.7)
plt.tight_layout()
plt.show()

# Versão interativa com Plotly
fig = px.histogram(df_educacao, 
                  x='ideb', 
                  marginal='box', 
                  title='Distribuição do IDEB',
                  labels={'ideb': 'IDEB'},
                  template='plotly_white',
                  color_discrete_sequence=['skyblue'])

fig.add_vline(x=df_educacao['ideb'].mean(), line_dash="dash", line_color="red", 
              annotation_text=f"Média: {df_educacao['ideb'].mean():.2f}")
fig.add_vline(x=df_educacao['ideb'].median(), line_dash="dash", line_color="green", 
              annotation_text=f"Mediana: {df_educacao['ideb'].median():.2f}")

fig.show()
```

### Box Plots

```python
# Box plot do IDEB por região
plt.figure(figsize=(12, 6))
sns.boxplot(data=df_educacao, x='regiao', y='ideb', palette='viridis')
plt.title('IDEB por Região')
plt.xlabel('Região')
plt.ylabel('IDEB')
plt.grid(axis='y', linestyle='--', alpha=0.7)
plt.tight_layout()
plt.show()

# Versão interativa com Plotly
fig = px.box(df_educacao, 
            x='regiao', 
            y='ideb', 
            title='IDEB por Região',
            labels={'regiao': 'Região', 'ideb': 'IDEB'},
            template='plotly_white',
            color='regiao')

fig.show()

# Identificação de outliers
def identificar_outliers(df, coluna, metodo='iqr', limite=1.5):
    """
    Identifica outliers em uma coluna numérica.
    
    Args:
        df: DataFrame
        coluna: Nome da coluna
        metodo: Método para identificação ('iqr' ou 'zscore')
        limite: Limite para considerar outlier (1.5 para IQR, 3 para z-score)
        
    Returns:
        DataFrame com outliers identificados
    """
    if metodo == 'iqr':
        Q1 = df[coluna].quantile(0.25)
        Q3 = df[coluna].quantile(0.75)
        IQR = Q3 - Q1
        
        limite_inferior = Q1 - limite * IQR
        limite_superior = Q3 + limite * IQR
        
        outliers = df[(df[coluna] < limite_inferior) | (df[coluna] > limite_superior)]
        
    elif metodo == 'zscore':
        z_scores = stats.zscore(df[coluna])
        outliers = df[abs(z_scores) > limite]
    
    return outliers

# Identificar outliers no IDEB
outliers_ideb = identificar_outliers(df_educacao, 'ideb')
print(f"Outliers identificados no IDEB: {len(outliers_ideb)}")
display(outliers_ideb)
```

### Gráficos de Dispersão

```python
# Gráfico de dispersão: Investimento por aluno vs IDEB
plt.figure(figsize=(10, 6))
sns.scatterplot(data=df_educacao, x='investimento_por_aluno', y='ideb', hue='regiao', palette='viridis', alpha=0.7)
plt.title('Relação entre Investimento por Aluno e IDEB')
plt.xlabel('Investimento por Aluno (R$)')
plt.ylabel('IDEB')
plt.grid(linestyle='--', alpha=0.7)
plt.legend(title='Região')
plt.tight_layout()
plt.show()

# Versão interativa com Plotly
fig = px.scatter(df_educacao, 
                x='investimento_por_aluno', 
                y='ideb', 
                color='regiao',
                title='Relação entre Investimento por Aluno e IDEB',
                labels={'investimento_por_aluno': 'Investimento por Aluno (R$)', 'ideb': 'IDEB', 'regiao': 'Região'},
                template='plotly_white',
                hover_data=['municipio', 'taxa_aprovacao'])

fig.show()
```

## Análise de Correlação

```python
# Matriz de correlação
colunas_numericas = ['ideb', 'taxa_aprovacao', 'taxa_abandono', 'investimento_por_aluno']
matriz_corr = df_educacao[colunas_numericas].corr()

# Visualizar matriz de correlação
plt.figure(figsize=(10, 8))
sns.heatmap(matriz_corr, annot=True, cmap='coolwarm', vmin=-1, vmax=1, fmt='.2f', linewidths=0.5)
plt.title('Matriz de Correlação - Variáveis Educacionais')
plt.tight_layout()
plt.show()

# Análise de correlação específica
def analisar_correlacao(df, x, y):
    """
    Analisa a correlação entre duas variáveis.
    
    Args:
        df: DataFrame
        x: Nome da variável x
        y: Nome da variável y
        
    Returns:
        Coeficiente de correlação e valor-p
    """
    corr, p_valor = stats.pearsonr(df[x], df[y])
    
    print(f"Correlação entre {x} e {y}:")
    print(f"Coeficiente de correlação (Pearson): {corr:.4f}")
    print(f"Valor-p: {p_valor:.4f}")
    
    if p_valor < 0.05:
        if corr > 0:
            print("Há uma correlação positiva estatisticamente significativa.")
        else:
            print("Há uma correlação negativa estatisticamente significativa.")
    else:
        print("Não há correlação estatisticamente significativa.")
    
    # Visualizar
    plt.figure(figsize=(10, 6))
    sns.regplot(data=df, x=x, y=y, scatter_kws={'alpha':0.5}, line_kws={'color':'red'})
    plt.title(f'Correlação entre {x} e {y}')
    plt.xlabel(x)
    plt.ylabel(y)
    plt.grid(linestyle='--', alpha=0.7)
    plt.tight_layout()
    plt.show()

# Analisar correlação entre investimento e IDEB
analisar_correlacao(df_educacao, 'investimento_por_aluno', 'ideb')
```

## Testes Estatísticos Básicos

### Teste t para Comparação de Médias

```python
# Comparar IDEB entre regiões (exemplo: Sudeste vs Nordeste)
sudeste = df_educacao[df_educacao['regiao'] == 'Sudeste']['ideb']
nordeste = df_educacao[df_educacao['regiao'] == 'Nordeste']['ideb']

t_stat, p_valor = stats.ttest_ind(sudeste, nordeste, equal_var=False)

print(f"Teste t para comparação de médias do IDEB entre Sudeste e Nordeste:")
print(f"Média Sudeste: {sudeste.mean():.2f}")
print(f"Média Nordeste: {nordeste.mean():.2f}")
print(f"Estatística t: {t_stat:.4f}")
print(f"Valor-p: {p_valor:.4f}")

if p_valor < 0.05:
    print("Há diferença estatisticamente significativa entre as médias.")
else:
    print("Não há diferença estatisticamente significativa entre as médias.")

# Visualizar comparação
plt.figure(figsize=(10, 6))
sns.boxplot(data=df_educacao[df_educacao['regiao'].isin(['Sudeste', 'Nordeste'])], 
           x='regiao', y='ideb', palette='Set2')
plt.title('Comparação do IDEB: Sudeste vs Nordeste')
plt.xlabel('Região')
plt.ylabel('IDEB')
plt.grid(axis='y', linestyle='--', alpha=0.7)
plt.tight_layout()
plt.show()
```

### ANOVA para Comparação de Múltiplas Médias

```python
# ANOVA para comparar IDEB entre todas as regiões
modelo = ols('ideb ~ C(regiao)', data=df_educacao).fit()
tabela_anova = sm.stats.anova_lm(modelo, typ=2)

print("ANOVA - Comparação do IDEB entre Regiões:")
display(tabela_anova)

if tabela_anova['PR(>F)'][0] < 0.05:
    print("Há diferença estatisticamente significativa entre pelo menos duas regiões.")
else:
    print("Não há diferença estatisticamente significativa entre as regiões.")

# Teste post-hoc (Tukey HSD) para identificar quais grupos diferem
from statsmodels.stats.multicomp import pairwise_tukeyhsd

tukey = pairwise_tukeyhsd(endog=df_educacao['ideb'],
                         groups=df_educacao['regiao'],
                         alpha=0.05)

print("\nTeste Post-hoc (Tukey HSD):")
print(tukey)

# Visualizar comparação entre todas as regiões
plt.figure(figsize=(12, 6))
sns.boxplot(data=df_educacao, x='regiao', y='ideb', palette='Set3')
plt.title('Comparação do IDEB entre Regiões')
plt.xlabel('Região')
plt.ylabel('IDEB')
plt.grid(axis='y', linestyle='--', alpha=0.7)
plt.tight_layout()
plt.show()
```

## Regressão Linear Simples

```python
# Regressão linear: Investimento por aluno vs IDEB
X = df_educacao['investimento_por_aluno']
X = sm.add_constant(X)  # Adicionar constante (intercepto)
y = df_educacao['ideb']

# Ajustar modelo
modelo = sm.OLS(y, X).fit()

# Resumo do modelo
print(modelo.summary())

# Visualizar regressão
plt.figure(figsize=(10, 6))
sns.regplot(data=df_educacao, x='investimento_por_aluno', y='ideb', 
           scatter_kws={'alpha':0.5}, line_kws={'color':'red'})

# Adicionar equação da reta
intercepto = modelo.params[0]
coef = modelo.params[1]
r2 = modelo.rsquared
equacao = f'IDEB = {intercepto:.2f} + {coef:.4f} × Investimento'
r2_texto = f'R² = {r2:.2f}'

plt.annotate(equacao, xy=(0.05, 0.95), xycoords='axes fraction', fontsize=12)
plt.annotate(r2_texto, xy=(0.05, 0.90), xycoords='axes fraction', fontsize=12)

plt.title('Regressão Linear: Investimento por Aluno vs IDEB')
plt.xlabel('Investimento por Aluno (R$)')
plt.ylabel('IDEB')
plt.grid(linestyle='--', alpha=0.7)
plt.tight_layout()
plt.show()

# Versão interativa com Plotly
fig = px.scatter(df_educacao, 
                x='investimento_por_aluno', 
                y='ideb', 
                color='regiao',
                trendline='ols',
                title='Regressão Linear: Investimento por Aluno vs IDEB',
                labels={'investimento_por_aluno': 'Investimento por Aluno (R$)', 'ideb': 'IDEB', 'regiao': 'Região'},
                template='plotly_white')

fig.show()
```

## Exportação de Resultados

```python
# Função para exportar resultados
def exportar_resultados(df, nome_arquivo, formato='csv'):
    """
    Exporta resultados para arquivo.
    
    Args:
        df: DataFrame a ser exportado
        nome_arquivo: Nome do arquivo sem extensão
        formato: Formato de exportação ('csv', 'excel', 'json')
    """
    if formato == 'csv':
        df.to_csv(f"{nome_arquivo}.csv", index=False)
        print(f"Resultados exportados para {nome_arquivo}.csv")
    elif formato == 'excel':
        df.to_excel(f"{nome_arquivo}.xlsx", index=False)
        print(f"Resultados exportados para {nome_arquivo}.xlsx")
    elif formato == 'json':
        df.to_json(f"{nome_arquivo}.json", orient='records')
        print(f"Resultados exportados para {nome_arquivo}.json")
    else:
        print(f"Formato {formato} não suportado.")

# Exportar estatísticas descritivas
estatisticas = estatisticas_detalhadas(df_educacao)
exportar_resultados(estatisticas.reset_index(), 'estatisticas_educacao', 'csv')

# Exportar dados processados
df_educacao_processado = df_educacao.copy()
df_educacao_processado['ideb_categoria'] = pd.cut(df_educacao['ideb'], 
                                               bins=[0, 4, 6, 10], 
                                               labels=['Baixo', 'Médio', 'Alto'])
exportar_resultados(df_educacao_processado, 'dados_educacao_processados', 'excel')
```

## Próximos Passos

Neste notebook, exploramos análises estatísticas básicas. Para análises mais avançadas, você pode:

1. Explorar o notebook **05_Análise_Avançada.ipynb** para técnicas de análise multivariada e séries temporais
2. Explorar o notebook **06_NLP_e_Redes_Neurais.ipynb** para análises de texto e modelos de aprendizado profundo
3. Explorar o notebook **07_Cruzamento_de_Dados.ipynb** para técnicas de combinação de dados de diferentes fontes

## Exercícios Práticos

1. Carregue dados reais do Portal da Transparência usando o conector implementado
2. Realize análises estatísticas básicas nos dados carregados
3. Crie visualizações personalizadas para comunicar insights
4. Compare dados entre diferentes períodos ou categorias
5. Exporte os resultados em diferentes formatos
