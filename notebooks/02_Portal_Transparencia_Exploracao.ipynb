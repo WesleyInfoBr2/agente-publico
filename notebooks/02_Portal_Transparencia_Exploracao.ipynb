# Notebook 02: Conectores para API do Portal da Transparência

## Visão Geral

Este notebook implementa os conectores para a API do Portal da Transparência do Governo Federal, permitindo acesso programático aos dados disponíveis para análise e visualização.

## Configuração Inicial

Primeiro, vamos importar as bibliotecas necessárias e configurar o ambiente:

```python
import requests
import pandas as pd
import json
import time
from datetime import datetime
import os
from typing import Dict, List, Union, Optional, Any
import httpx
from tqdm.notebook import tqdm
```

## Classe de Conector para o Portal da Transparência

A classe abaixo implementa um conector completo para a API do Portal da Transparência:

```python
class PortalTransparenciaAPI:
    """
    Classe para interação com a API do Portal da Transparência do Governo Federal.
    
    Esta classe gerencia autenticação, requisições, tratamento de erros e conversão
    de dados para formatos adequados para análise.
    """
    
    def __init__(self, token: Optional[str] = None):
        """
        Inicializa o conector da API do Portal da Transparência.
        
        Args:
            token: Token de autenticação para a API. Se não fornecido, tentará obter da variável de ambiente.
        """
        self.base_url = "https://api.portaldatransparencia.gov.br/api-de-dados"
        self._token = token or os.environ.get("TRANSPARENCIA_API_TOKEN")
        
        if not self._token:
            raise ValueError(
                "Token de API não fornecido. Forneça como parâmetro ou defina a variável de ambiente TRANSPARENCIA_API_TOKEN."
            )
        
        self.headers = {
            "accept": "application/json",
            "chave-api-dados": self._token
        }
        
        # Controle de taxa de requisições
        self.request_count = 0
        self.last_request_time = datetime.now()
        
        # Limites da API (90 requisições por minuto durante o dia, 300 durante a madrugada)
        self.day_limit = 90
        self.night_limit = 300
        
    def _get_current_limit(self) -> int:
        """Determina o limite atual de requisições com base na hora do dia."""
        hour = datetime.now().hour
        return self.night_limit if (0 <= hour < 6) else self.day_limit
    
    def _wait_if_needed(self):
        """Implementa controle de taxa para evitar exceder limites da API."""
        current_time = datetime.now()
        elapsed = (current_time - self.last_request_time).total_seconds()
        
        # Se passou mais de um minuto, reinicia a contagem
        if elapsed >= 60:
            self.request_count = 0
            self.last_request_time = current_time
            return
        
        # Se atingiu o limite, espera até completar um minuto
        if self.request_count >= self._get_current_limit():
            sleep_time = 60 - elapsed
            print(f"Limite de requisições atingido. Aguardando {sleep_time:.1f} segundos...")
            time.sleep(sleep_time)
            self.request_count = 0
            self.last_request_time = datetime.now()
    
    def _make_request(self, endpoint: str, params: Dict = None) -> Dict:
        """
        Realiza uma requisição à API com tratamento de erros e controle de taxa.
        
        Args:
            endpoint: Endpoint da API a ser acessado
            params: Parâmetros da requisição
            
        Returns:
            Dados da resposta em formato de dicionário
        """
        self._wait_if_needed()
        
        url = f"{self.base_url}/{endpoint}"
        
        try:
            response = requests.get(url, headers=self.headers, params=params)
            self.request_count += 1
            
            # Tratamento de erros HTTP
            response.raise_for_status()
            
            # Alguns endpoints retornam listas vazias em vez de erro 404
            if response.text == "[]":
                return []
                
            return response.json()
            
        except requests.exceptions.HTTPError as e:
            if e.response.status_code == 429:  # Too Many Requests
                print("Limite de requisições excedido. Aguardando...")
                time.sleep(60)
                return self._make_request(endpoint, params)
            elif e.response.status_code == 404:  # Not Found
                print(f"Recurso não encontrado: {url}")
                return []
            else:
                print(f"Erro HTTP {e.response.status_code}: {e.response.text}")
                raise
        except requests.exceptions.RequestException as e:
            print(f"Erro na requisição: {str(e)}")
            raise
        except json.JSONDecodeError:
            print(f"Erro ao decodificar resposta JSON: {response.text}")
            return {}
    
    def to_dataframe(self, data: List[Dict]) -> pd.DataFrame:
        """Converte dados da API para DataFrame do pandas."""
        if not data:
            return pd.DataFrame()
        return pd.DataFrame(data)
    
    # Métodos específicos para cada endpoint da API
    
    def get_bolsa_familia(self, 
                          municipio: Optional[str] = None, 
                          uf: Optional[str] = None,
                          mes: Optional[int] = None,
                          ano: Optional[int] = None,
                          pagina: int = 1) -> pd.DataFrame:
        """
        Obtém dados do Bolsa Família.
        
        Args:
            municipio: Código IBGE do município
            uf: Sigla do estado
            mes: Mês de referência (1-12)
            ano: Ano de referência
            pagina: Número da página de resultados
            
        Returns:
            DataFrame com os dados do Bolsa Família
        """
        params = {
            "pagina": pagina
        }
        
        if municipio:
            params["codigoIbge"] = municipio
        if uf:
            params["uf"] = uf
        if mes:
            params["mesAno"] = f"{mes:02d}/{ano}" if ano else f"{mes:02d}/{datetime.now().year}"
        elif ano:
            params["mesAno"] = f"{datetime.now().month:02d}/{ano}"
        
        data = self._make_request("bolsa-familia-por-municipio", params)
        return self.to_dataframe(data)
    
    def get_servidores(self, 
                      orgao: Optional[str] = None,
                      cpf: Optional[str] = None,
                      nome: Optional[str] = None,
                      pagina: int = 1) -> pd.DataFrame:
        """
        Obtém dados de servidores públicos federais.
        
        Args:
            orgao: Código do órgão
            cpf: CPF do servidor (parcial ou completo)
            nome: Nome do servidor (parcial ou completo)
            pagina: Número da página de resultados
            
        Returns:
            DataFrame com os dados dos servidores
        """
        params = {
            "pagina": pagina
        }
        
        if orgao:
            params["orgao"] = orgao
        if cpf:
            params["cpf"] = cpf
        if nome:
            params["nome"] = nome
        
        data = self._make_request("servidores", params)
        return self.to_dataframe(data)
    
    def get_contratos(self,
                     orgao: Optional[str] = None,
                     contratado: Optional[str] = None,
                     objeto: Optional[str] = None,
                     data_inicio: Optional[str] = None,
                     data_fim: Optional[str] = None,
                     pagina: int = 1) -> pd.DataFrame:
        """
        Obtém dados de contratos do governo federal.
        
        Args:
            orgao: Código do órgão contratante
            contratado: CNPJ ou nome do contratado
            objeto: Descrição do objeto do contrato
            data_inicio: Data de início no formato DD/MM/AAAA
            data_fim: Data de fim no formato DD/MM/AAAA
            pagina: Número da página de resultados
            
        Returns:
            DataFrame com os dados dos contratos
        """
        params = {
            "pagina": pagina
        }
        
        if orgao:
            params["codigoOrgao"] = orgao
        if contratado:
            params["contratado"] = contratado
        if objeto:
            params["objeto"] = objeto
        if data_inicio:
            params["dataInicio"] = data_inicio
        if data_fim:
            params["dataFim"] = data_fim
        
        data = self._make_request("contratos", params)
        return self.to_dataframe(data)
    
    def get_despesas(self,
                    orgao: Optional[str] = None,
                    elemento: Optional[str] = None,
                    favorecido: Optional[str] = None,
                    ano: Optional[int] = None,
                    pagina: int = 1) -> pd.DataFrame:
        """
        Obtém dados de despesas do governo federal.
        
        Args:
            orgao: Código do órgão
            elemento: Código do elemento de despesa
            favorecido: CNPJ/CPF ou nome do favorecido
            ano: Ano de referência
            pagina: Número da página de resultados
            
        Returns:
            DataFrame com os dados das despesas
        """
        params = {
            "pagina": pagina
        }
        
        if orgao:
            params["codigoOrgao"] = orgao
        if elemento:
            params["codigoElementoDespesa"] = elemento
        if favorecido:
            params["favorecido"] = favorecido
        if ano:
            params["ano"] = ano
        
        data = self._make_request("despesas", params)
        return self.to_dataframe(data)
    
    def get_licitacoes(self,
                      orgao: Optional[str] = None,
                      situacao: Optional[str] = None,
                      data_inicio: Optional[str] = None,
                      data_fim: Optional[str] = None,
                      pagina: int = 1) -> pd.DataFrame:
        """
        Obtém dados de licitações do governo federal.
        
        Args:
            orgao: Código do órgão
            situacao: Situação da licitação
            data_inicio: Data de início no formato DD/MM/AAAA
            data_fim: Data de fim no formato DD/MM/AAAA
            pagina: Número da página de resultados
            
        Returns:
            DataFrame com os dados das licitações
        """
        params = {
            "pagina": pagina
        }
        
        if orgao:
            params["codigoOrgao"] = orgao
        if situacao:
            params["situacao"] = situacao
        if data_inicio:
            params["dataInicio"] = data_inicio
        if data_fim:
            params["dataFim"] = data_fim
        
        data = self._make_request("licitacoes", params)
        return self.to_dataframe(data)
    
    def listar_endpoints_disponiveis(self) -> List[str]:
        """
        Lista todos os endpoints disponíveis na API do Portal da Transparência.
        
        Returns:
            Lista de endpoints disponíveis
        """
        # Esta é uma lista estática baseada na documentação atual
        return [
            "bolsa-familia-por-municipio",
            "bolsa-familia-disponivel-por-cpf-ou-nis",
            "bolsa-familia-por-nis",
            "peti-por-municipio",
            "garantia-safra",
            "seguro-defeso",
            "servidores",
            "servidores-remuneracao",
            "contratos",
            "despesas",
            "licitacoes",
            "ceis",
            "cnep",
            "cepim"
        ]
```

## Exemplos de Uso

Vamos demonstrar como utilizar o conector para acessar diferentes tipos de dados:

### Exemplo 1: Consulta de Bolsa Família por Estado

```python
# Inicializar o conector (substitua pelo seu token ou configure a variável de ambiente)
api = PortalTransparenciaAPI("seu-token-aqui")

# Consultar dados do Bolsa Família para um estado específico
df_bolsa_familia = api.get_bolsa_familia(uf="SP", mes=3, ano=2023)

# Exibir os primeiros registros
display(df_bolsa_familia.head())

# Estatísticas básicas
display(df_bolsa_familia.describe())
```

### Exemplo 2: Consulta de Contratos Recentes

```python
# Consultar contratos dos últimos 3 meses
from datetime import datetime, timedelta

hoje = datetime.now()
tres_meses_atras = hoje - timedelta(days=90)

data_inicio = tres_meses_atras.strftime("%d/%m/%Y")
data_fim = hoje.strftime("%d/%m/%Y")

df_contratos = api.get_contratos(data_inicio=data_inicio, data_fim=data_fim)

# Exibir os contratos de maior valor
display(df_contratos.sort_values(by="valorTotal", ascending=False).head(10))
```

### Exemplo 3: Análise de Despesas por Órgão

```python
# Consultar despesas de um órgão específico
df_despesas = api.get_despesas(orgao="26000", ano=2023)

# Agrupar por elemento de despesa
despesas_por_elemento = df_despesas.groupby("elemento").sum().sort_values(by="valor", ascending=False)

# Visualizar os principais elementos de despesa
import matplotlib.pyplot as plt
import seaborn as sns

plt.figure(figsize=(12, 8))
sns.barplot(x=despesas_por_elemento.index[:10], y=despesas_por_elemento["valor"][:10])
plt.xticks(rotation=45, ha="right")
plt.title("Principais Elementos de Despesa")
plt.tight_layout()
plt.show()
```

## Paginação e Consultas Completas

Para consultas que retornam muitos resultados, é necessário implementar paginação:

```python
def get_all_pages(api_method, **kwargs):
    """
    Obtém todos os resultados de uma consulta paginada.
    
    Args:
        api_method: Método da API a ser chamado
        **kwargs: Parâmetros para o método da API
        
    Returns:
        DataFrame com todos os resultados combinados
    """
    all_data = []
    page = 1
    
    while True:
        kwargs["pagina"] = page
        df = api_method(**kwargs)
        
        if df.empty:
            break
            
        all_data.append(df)
        page += 1
        
        # Feedback sobre o progresso
        print(f"Página {page-1}: {len(df)} registros obtidos")
    
    if not all_data:
        return pd.DataFrame()
        
    return pd.concat(all_data, ignore_index=True)

# Exemplo: obter todos os contratos de um órgão específico
todos_contratos = get_all_pages(api.get_contratos, orgao="26000", data_inicio="01/01/2023", data_fim="31/12/2023")
print(f"Total de contratos obtidos: {len(todos_contratos)}")
```

## Tratamento de Erros e Limitações

A API do Portal da Transparência possui algumas limitações importantes:

1. **Limite de requisições**: 90 por minuto durante o dia (6:00-23:59) e 300 por minuto durante a madrugada (00:00-5:59)
2. **Paginação obrigatória**: A maioria dos endpoints retorna resultados paginados
3. **Timeout**: Requisições podem expirar para consultas muito grandes

O conector implementado já trata essas limitações, mas é importante estar ciente delas ao planejar análises.

## Próximos Passos

Agora que você conhece como acessar os dados do Portal da Transparência, pode:

1. Explorar os diferentes endpoints disponíveis
2. Combinar dados de diferentes fontes
3. Realizar análises estatísticas básicas e avançadas
4. Criar visualizações para comunicar insights

Prossiga para o notebook **03_CNDP_Exploração.ipynb** para conhecer como acessar dados do Catálogo Nacional de Dados Públicos.
