# Notebook 03: Conectores para API do Catálogo Nacional de Dados Públicos (CNDP)

## Visão Geral

Este notebook implementa os conectores para a API do Catálogo Nacional de Dados Públicos (CNDP), permitindo acesso programático aos metadados e conjuntos de dados disponíveis para análise e visualização.

## Configuração Inicial

Primeiro, vamos importar as bibliotecas necessárias e configurar o ambiente:

```python
import requests
import pandas as pd
import json
import time
from datetime import datetime
import os
from typing import Dict, List, Union, Optional, Any
import httpx
from tqdm.notebook import tqdm
import urllib.parse
```

## Classe de Conector para o CNDP

A classe abaixo implementa um conector completo para a API do Catálogo Nacional de Dados Públicos:

```python
class CNDPAPI:
    """
    Classe para interação com a API do Catálogo Nacional de Dados Públicos (CNDP).
    
    Esta classe gerencia requisições, tratamento de erros e conversão
    de dados para formatos adequados para análise.
    """
    
    def __init__(self, token: Optional[str] = None):
        """
        Inicializa o conector da API do CNDP.
        
        Args:
            token: Token de autenticação para a API. Opcional, pois a maioria dos endpoints são públicos.
        """
        self.base_url = "https://dados.gov.br/dados/api/publico"
        self._token = token or os.environ.get("CNDP_API_TOKEN")
        
        self.headers = {
            "accept": "application/json"
        }
        
        # Adiciona token aos headers se disponível
        if self._token:
            self.headers["Authorization"] = f"Bearer {self._token}"
        
        # Controle de taxa de requisições
        self.request_count = 0
        self.last_request_time = datetime.now()
        self.rate_limit = 60  # Requisições por minuto (estimado)
        
    def _wait_if_needed(self):
        """Implementa controle de taxa para evitar exceder limites da API."""
        current_time = datetime.now()
        elapsed = (current_time - self.last_request_time).total_seconds()
        
        # Se passou mais de um minuto, reinicia a contagem
        if elapsed >= 60:
            self.request_count = 0
            self.last_request_time = current_time
            return
        
        # Se atingiu o limite, espera até completar um minuto
        if self.request_count >= self.rate_limit:
            sleep_time = 60 - elapsed
            print(f"Limite de requisições atingido. Aguardando {sleep_time:.1f} segundos...")
            time.sleep(sleep_time)
            self.request_count = 0
            self.last_request_time = datetime.now()
    
    def _make_request(self, endpoint: str, params: Dict = None) -> Dict:
        """
        Realiza uma requisição à API com tratamento de erros e controle de taxa.
        
        Args:
            endpoint: Endpoint da API a ser acessado
            params: Parâmetros da requisição
            
        Returns:
            Dados da resposta em formato de dicionário
        """
        self._wait_if_needed()
        
        url = f"{self.base_url}/{endpoint}"
        
        try:
            response = requests.get(url, headers=self.headers, params=params)
            self.request_count += 1
            
            # Tratamento de erros HTTP
            response.raise_for_status()
            
            # Alguns endpoints retornam listas vazias em vez de erro 404
            if response.text == "[]":
                return []
                
            return response.json()
            
        except requests.exceptions.HTTPError as e:
            if e.response.status_code == 429:  # Too Many Requests
                print("Limite de requisições excedido. Aguardando...")
                time.sleep(60)
                return self._make_request(endpoint, params)
            elif e.response.status_code == 404:  # Not Found
                print(f"Recurso não encontrado: {url}")
                return []
            else:
                print(f"Erro HTTP {e.response.status_code}: {e.response.text}")
                raise
        except requests.exceptions.RequestException as e:
            print(f"Erro na requisição: {str(e)}")
            raise
        except json.JSONDecodeError:
            print(f"Erro ao decodificar resposta JSON: {response.text}")
            return {}
    
    def to_dataframe(self, data: Union[List[Dict], Dict]) -> pd.DataFrame:
        """
        Converte dados da API para DataFrame do pandas.
        
        Args:
            data: Dados da API (lista de dicionários ou dicionário com items)
            
        Returns:
            DataFrame do pandas
        """
        if not data:
            return pd.DataFrame()
            
        # Se for um dicionário com 'items', extrair a lista de items
        if isinstance(data, dict) and 'items' in data:
            items = data['items']
            return pd.DataFrame(items)
        
        # Se for uma lista de dicionários
        return pd.DataFrame(data)
    
    # Métodos específicos para cada endpoint da API
    
    def listar_conjuntos_dados(self, 
                              q: Optional[str] = None,
                              organizacao: Optional[str] = None,
                              tema: Optional[str] = None,
                              pagina: int = 1,
                              tamanho_pagina: int = 10) -> pd.DataFrame:
        """
        Lista conjuntos de dados disponíveis no CNDP.
        
        Args:
            q: Termo de busca
            organizacao: ID da organização
            tema: ID do tema
            pagina: Número da página de resultados
            tamanho_pagina: Quantidade de itens por página
            
        Returns:
            DataFrame com os conjuntos de dados
        """
        params = {
            "page": pagina,
            "pageSize": tamanho_pagina
        }
        
        if q:
            params["q"] = q
        if organizacao:
            params["organizacao"] = organizacao
        if tema:
            params["tema"] = tema
        
        data = self._make_request("conjuntos-dados", params)
        
        # Extrair informações relevantes
        if isinstance(data, dict) and 'items' in data:
            df = self.to_dataframe(data)
            
            # Adicionar informações de paginação como atributos do DataFrame
            df.attrs['total'] = data.get('total', 0)
            df.attrs['pagina'] = data.get('page', 1)
            df.attrs['tamanho_pagina'] = data.get('pageSize', 10)
            
            return df
        
        return pd.DataFrame()
    
    def detalhar_conjunto_dados(self, id_conjunto: str) -> Dict:
        """
        Obtém detalhes de um conjunto de dados específico.
        
        Args:
            id_conjunto: ID do conjunto de dados
            
        Returns:
            Dicionário com detalhes do conjunto de dados
        """
        return self._make_request(f"conjuntos-dados/{id_conjunto}")
    
    def listar_organizacoes(self, 
                           q: Optional[str] = None,
                           pagina: int = 1,
                           tamanho_pagina: int = 10) -> pd.DataFrame:
        """
        Lista organizações cadastradas no CNDP.
        
        Args:
            q: Termo de busca
            pagina: Número da página de resultados
            tamanho_pagina: Quantidade de itens por página
            
        Returns:
            DataFrame com as organizações
        """
        params = {
            "page": pagina,
            "pageSize": tamanho_pagina
        }
        
        if q:
            params["q"] = q
        
        data = self._make_request("organizacao", params)
        return self.to_dataframe(data)
    
    def detalhar_organizacao(self, id_organizacao: str) -> Dict:
        """
        Obtém detalhes de uma organização específica.
        
        Args:
            id_organizacao: ID da organização
            
        Returns:
            Dicionário com detalhes da organização
        """
        return self._make_request(f"organizacao/{id_organizacao}")
    
    def listar_temas(self) -> pd.DataFrame:
        """
        Lista temas disponíveis no CNDP.
        
        Returns:
            DataFrame com os temas
        """
        data = self._make_request("../temas")
        return self.to_dataframe(data)
    
    def listar_formatos(self) -> pd.DataFrame:
        """
        Lista formatos de dados disponíveis no CNDP.
        
        Returns:
            DataFrame com os formatos
        """
        data = self._make_request("conjuntos-dados/formatos")
        return self.to_dataframe(data)
    
    def listar_reusos(self, 
                     pagina: int = 1,
                     tamanho_pagina: int = 10) -> pd.DataFrame:
        """
        Lista reúsos de dados cadastrados no CNDP.
        
        Args:
            pagina: Número da página de resultados
            tamanho_pagina: Quantidade de itens por página
            
        Returns:
            DataFrame com os reúsos
        """
        params = {
            "page": pagina,
            "pageSize": tamanho_pagina
        }
        
        data = self._make_request("reusos", params)
        return self.to_dataframe(data)
    
    def detalhar_reuso(self, id_reuso: str) -> Dict:
        """
        Obtém detalhes de um reúso específico.
        
        Args:
            id_reuso: ID do reúso
            
        Returns:
            Dicionário com detalhes do reúso
        """
        return self._make_request(f"reuso/{id_reuso}")
    
    def obter_recursos_conjunto(self, id_conjunto: str) -> List[Dict]:
        """
        Obtém recursos (arquivos de dados) de um conjunto de dados.
        
        Args:
            id_conjunto: ID do conjunto de dados
            
        Returns:
            Lista de recursos disponíveis
        """
        conjunto = self.detalhar_conjunto_dados(id_conjunto)
        return conjunto.get('recursos', [])
    
    def baixar_recurso(self, url_recurso: str, caminho_destino: str) -> str:
        """
        Baixa um recurso (arquivo de dados) para o disco local.
        
        Args:
            url_recurso: URL do recurso
            caminho_destino: Caminho local para salvar o arquivo
            
        Returns:
            Caminho do arquivo baixado
        """
        try:
            response = requests.get(url_recurso, stream=True)
            response.raise_for_status()
            
            # Obter o tamanho total do arquivo, se disponível
            total_size = int(response.headers.get('content-length', 0))
            
            # Criar diretório de destino se não existir
            os.makedirs(os.path.dirname(os.path.abspath(caminho_destino)), exist_ok=True)
            
            # Baixar o arquivo com barra de progresso
            with open(caminho_destino, 'wb') as f, tqdm(
                desc=os.path.basename(caminho_destino),
                total=total_size,
                unit='B',
                unit_scale=True,
                unit_divisor=1024,
            ) as bar:
                for chunk in response.iter_content(chunk_size=8192):
                    size = f.write(chunk)
                    bar.update(size)
            
            return caminho_destino
            
        except Exception as e:
            print(f"Erro ao baixar recurso: {str(e)}")
            raise
    
    def carregar_dados_recurso(self, url_recurso: str) -> pd.DataFrame:
        """
        Carrega dados de um recurso diretamente para um DataFrame.
        
        Args:
            url_recurso: URL do recurso
            
        Returns:
            DataFrame com os dados do recurso
        """
        # Determinar o formato do arquivo pela extensão
        extensao = url_recurso.split('.')[-1].lower()
        
        try:
            if extensao == 'csv':
                return pd.read_csv(url_recurso, sep=None, engine='python')
            elif extensao == 'xlsx' or extensao == 'xls':
                return pd.read_excel(url_recurso)
            elif extensao == 'json':
                return pd.read_json(url_recurso)
            else:
                print(f"Formato não suportado diretamente: {extensao}")
                print("Baixe o arquivo usando o método baixar_recurso() e processe manualmente.")
                return pd.DataFrame()
        except Exception as e:
            print(f"Erro ao carregar dados: {str(e)}")
            return pd.DataFrame()
    
    def buscar_conjuntos_dados_completo(self, 
                                       q: Optional[str] = None,
                                       organizacao: Optional[str] = None,
                                       tema: Optional[str] = None,
                                       max_paginas: int = 10) -> pd.DataFrame:
        """
        Busca conjuntos de dados com paginação automática.
        
        Args:
            q: Termo de busca
            organizacao: ID da organização
            tema: ID do tema
            max_paginas: Número máximo de páginas a buscar
            
        Returns:
            DataFrame com todos os conjuntos de dados encontrados
        """
        all_data = []
        pagina = 1
        tamanho_pagina = 100  # Maximizar resultados por página
        
        while pagina <= max_paginas:
            df = self.listar_conjuntos_dados(
                q=q, 
                organizacao=organizacao, 
                tema=tema, 
                pagina=pagina, 
                tamanho_pagina=tamanho_pagina
            )
            
            if df.empty:
                break
                
            all_data.append(df)
            
            # Verificar se há mais páginas
            total = df.attrs.get('total', 0)
            items_obtidos = pagina * tamanho_pagina
            
            print(f"Página {pagina}: {len(df)} conjuntos de dados obtidos")
            
            if items_obtidos >= total:
                break
                
            pagina += 1
        
        if not all_data:
            return pd.DataFrame()
            
        return pd.concat(all_data, ignore_index=True)
```

## Exemplos de Uso

Vamos demonstrar como utilizar o conector para acessar diferentes tipos de dados:

### Exemplo 1: Listar Conjuntos de Dados

```python
# Inicializar o conector
api = CNDPAPI()

# Listar conjuntos de dados relacionados à saúde
df_saude = api.listar_conjuntos_dados(q="saúde", tamanho_pagina=20)

# Exibir os primeiros registros
display(df_saude.head())

# Informações sobre a paginação
print(f"Total de conjuntos encontrados: {df_saude.attrs.get('total', 0)}")
print(f"Página atual: {df_saude.attrs.get('pagina', 1)}")
print(f"Itens por página: {df_saude.attrs.get('tamanho_pagina', 10)}")
```

### Exemplo 2: Explorar Organizações

```python
# Listar organizações
df_orgs = api.listar_organizacoes(tamanho_pagina=50)

# Exibir as organizações
display(df_orgs[['id', 'nome', 'sigla']])

# Detalhar uma organização específica
org_id = df_orgs.iloc[0]['id']
org_detalhes = api.detalhar_organizacao(org_id)

# Exibir detalhes
print(f"Nome: {org_detalhes.get('nome')}")
print(f"Descrição: {org_detalhes.get('descricao')}")
print(f"Site: {org_detalhes.get('site')}")
```

### Exemplo 3: Explorar e Baixar Recursos de um Conjunto de Dados

```python
# Buscar um conjunto de dados específico
df_conjuntos = api.listar_conjuntos_dados(q="orçamento federal", tamanho_pagina=5)

# Selecionar o primeiro conjunto
if not df_conjuntos.empty:
    conjunto_id = df_conjuntos.iloc[0]['id']
    
    # Obter detalhes do conjunto
    conjunto = api.detalhar_conjunto_dados(conjunto_id)
    
    print(f"Título: {conjunto.get('titulo')}")
    print(f"Descrição: {conjunto.get('descricao')}")
    
    # Listar recursos disponíveis
    recursos = conjunto.get('recursos', [])
    
    for i, recurso in enumerate(recursos):
        print(f"\nRecurso {i+1}:")
        print(f"  Título: {recurso.get('titulo')}")
        print(f"  Formato: {recurso.get('formato')}")
        print(f"  URL: {recurso.get('url')}")
    
    # Baixar o primeiro recurso se for CSV
    if recursos and recursos[0].get('formato', '').lower() == 'csv':
        url_recurso = recursos[0].get('url')
        nome_arquivo = url_recurso.split('/')[-1]
        
        # Baixar para o diretório local
        caminho = f"./dados/{nome_arquivo}"
        api.baixar_recurso(url_recurso, caminho)
        
        # Ou carregar diretamente para um DataFrame
        df = api.carregar_dados_recurso(url_recurso)
        display(df.head())
```

### Exemplo 4: Busca Completa com Paginação Automática

```python
# Buscar todos os conjuntos de dados relacionados a um tema
df_completo = api.buscar_conjuntos_dados_completo(q="educação", max_paginas=5)

# Exibir estatísticas
print(f"Total de conjuntos encontrados: {len(df_completo)}")

# Análise dos formatos disponíveis
if not df_completo.empty and 'recursos' in df_completo.columns:
    formatos = []
    for recursos in df_completo['recursos']:
        for recurso in recursos:
            formato = recurso.get('formato', '').lower()
            if formato:
                formatos.append(formato)
    
    # Contar formatos
    formatos_count = pd.Series(formatos).value_counts()
    
    # Visualizar
    import matplotlib.pyplot as plt
    
    plt.figure(figsize=(10, 6))
    formatos_count.plot(kind='bar')
    plt.title('Formatos de Dados Disponíveis')
    plt.xlabel('Formato')
    plt.ylabel('Quantidade')
    plt.xticks(rotation=45)
    plt.tight_layout()
    plt.show()
```

## Navegação na Hierarquia de Dados

O CNDP organiza os dados em uma hierarquia: Organizações → Conjuntos de Dados → Recursos. Vamos explorar essa hierarquia:

```python
def explorar_hierarquia_dados():
    """Explora a hierarquia de dados do CNDP de forma interativa."""
    api = CNDPAPI()
    
    # 1. Listar organizações
    print("Buscando organizações...")
    df_orgs = api.listar_organizacoes(tamanho_pagina=50)
    
    # Exibir organizações para seleção
    print("\nOrganizações disponíveis:")
    for i, (_, org) in enumerate(df_orgs[['id', 'nome', 'sigla']].iterrows()):
        print(f"{i+1}. [{org['sigla']}] {org['nome']}")
    
    # Selecionar organização
    org_idx = int(input("\nSelecione uma organização (número): ")) - 1
    org_id = df_orgs.iloc[org_idx]['id']
    org_nome = df_orgs.iloc[org_idx]['nome']
    
    # 2. Listar conjuntos de dados da organização
    print(f"\nBuscando conjuntos de dados de {org_nome}...")
    df_conjuntos = api.listar_conjuntos_dados(organizacao=org_id, tamanho_pagina=50)
    
    # Exibir conjuntos para seleção
    print("\nConjuntos de dados disponíveis:")
    for i, (_, conj) in enumerate(df_conjuntos[['id', 'titulo']].iterrows()):
        print(f"{i+1}. {conj['titulo']}")
    
    # Selecionar conjunto
    conj_idx = int(input("\nSelecione um conjunto de dados (número): ")) - 1
    conj_id = df_conjuntos.iloc[conj_idx]['id']
    conj_titulo = df_conjuntos.iloc[conj_idx]['titulo']
    
    # 3. Detalhar conjunto e listar recursos
    print(f"\nBuscando recursos do conjunto '{conj_titulo}'...")
    conjunto = api.detalhar_conjunto_dados(conj_id)
    recursos = conjunto.get('recursos', [])
    
    # Exibir recursos para seleção
    print("\nRecursos disponíveis:")
    for i, recurso in enumerate(recursos):
        print(f"{i+1}. [{recurso.get('formato', 'N/A')}] {recurso.get('titulo', 'Sem título')}")
    
    # Selecionar recurso
    rec_idx = int(input("\nSelecione um recurso (número): ")) - 1
    recurso = recursos[rec_idx]
    
    # 4. Opções para o recurso
    print("\nOpções para o recurso:")
    print("1. Baixar para disco local")
    print("2. Carregar para DataFrame (se formato compatível)")
    opcao = int(input("\nEscolha uma opção: "))
    
    url_recurso = recurso.get('url')
    if opcao == 1:
        # Baixar recurso
        nome_arquivo = url_recurso.split('/')[-1]
        caminho = f"./dados/{nome_arquivo}"
        api.baixar_recurso(url_recurso, caminho)
        print(f"\nRecurso baixado para {caminho}")
    else:
        # Carregar para DataFrame
        print("\nCarregando dados para DataFrame...")
        df = api.carregar_dados_recurso(url_recurso)
        
        if not df.empty:
            print("\nPrimeiras linhas do DataFrame:")
            display(df.head())
            print(f"\nDimensões: {df.shape[0]} linhas x {df.shape[1]} colunas")
        else:
            print("\nNão foi possível carregar os dados diretamente. Tente baixar o arquivo.")

# Para executar a exploração interativa, descomente a linha abaixo
# explorar_hierarquia_dados()
```

## Limitações e Considerações

Ao trabalhar com o CNDP, é importante considerar:

1. **Metadados vs. Dados**: O CNDP é principalmente um catálogo de metadados, não um repositório de dados. Os dados reais estão hospedados em servidores externos.

2. **Qualidade variável**: A qualidade e atualização dos dados variam conforme a organização responsável.

3. **Formatos heterogêneos**: Os recursos podem estar em diversos formatos, alguns não facilmente processáveis.

4. **URLs quebradas**: Alguns recursos podem ter URLs desatualizadas ou inacessíveis.

5. **Paginação**: A API utiliza paginação para limitar o volume de dados retornados em cada requisição.

## Próximos Passos

Agora que você conhece como acessar os dados do CNDP, pode:

1. Explorar os diferentes conjuntos de dados disponíveis
2. Combinar dados de diferentes fontes
3. Realizar análises estatísticas básicas e avançadas
4. Criar visualizações para comunicar insights

Prossiga para o notebook **04_Análise_Estatística_Básica.ipynb** para aprender como realizar análises estatísticas com os dados obtidos.
